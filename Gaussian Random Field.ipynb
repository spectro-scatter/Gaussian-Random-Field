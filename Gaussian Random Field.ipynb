{
 "cells": [
  {
   "cell_type": "code",
   "execution_count": 1,
   "metadata": {},
   "outputs": [],
   "source": [
    "import os\n",
    "import numpy as np\n",
    "import time\n",
    "import matplotlib.pyplot as plt\n",
    "import ipyvolume as ipv\n",
    "from ipywidgets import HBox"
   ]
  },
  {
   "cell_type": "code",
   "execution_count": 2,
   "metadata": {},
   "outputs": [],
   "source": [
    "# Start time.\n",
    "start_time = time.time()\n",
    "\n",
    "# Random seed.\n",
    "#random_seed = np.mod(1e7 * start_time, np.iinfo(np.uint32).max)\n",
    "#random_seed = np.uint32(random_seed)\n",
    "#np.random.seed(random_seed)  \n",
    "random_seed = np.random.seed(np.uint32(1))\n",
    "\n",
    "# Structure size.\n",
    "number_of_voxels = 192\n",
    "\n",
    "# Parameters of the GRF.\n",
    "ax = 0.5\n",
    "ay = 0.5\n",
    "az = 0.5\n",
    "\n",
    "k = 1.50\n",
    "n = 1.00\n",
    "l = 2.00\n",
    "\n",
    "#period\n",
    "d = 10\n",
    "\n",
    "# Porosity of the binary structure.\n",
    "epsilon1 = 0.360\n",
    "epsilon2 = 0.670\n",
    "\n",
    "# Fourier space grid.\n",
    "xx = np.arange(-number_of_voxels / 2, number_of_voxels / 2)\n",
    "X, Y, Z = np.meshgrid(xx, xx, xx, copy = True, indexing = 'ij')\n",
    "\n",
    "# White noise.\n",
    "B = np.random.randn(number_of_voxels, number_of_voxels, number_of_voxels)\n",
    "\n",
    "# Fourier transform of the white noise.\n",
    "A = np.fft.fftn(B)\n",
    "\n",
    "# Spectral density of the covariance function.\n",
    "GAMMA = ( 1 + ( np.abs(ax * X) ** (2 * k) + np.abs(ay * Y) ** (2 * k) + np.abs(az * Z) ** (2 * k) ) ** l  ) ** (-n)\n",
    "#GAMMA =  (np.sinc(ax * X)  * np.sinc(ay * Y) * np.sinc(az * Z)) ** (2)\n",
    "#GAMMA = (1 + (np.abs(((ax*(X+Y))%(2*d)-d)-d) ** (2 * k) + np.abs(((ay*(Y+Z))%(2*d)-d)-d) ** (2 * k) + np.abs(((az*(Z+X))%(2*d)-d)-d) ** (2 * k) ) ** l) ** (-n)\n",
    "\n",
    "# Generate GRF from the white noise and covariance function.\n",
    "A = A * (GAMMA ** (1 / 2))\n",
    "GRF = np.fft.ifftn(np.fft.fftshift(A))\n",
    "\n",
    "# Convert GRF to real part (imaginary part is zero anyway except for rounding errors).\n",
    "GRF = np.real(GRF)\n",
    "\n",
    "# Threshold to obtain prescribed porosity.\n",
    "T1 = np.percentile(GRF, 100 * epsilon1)\n",
    "T2 = np.percentile(GRF, 100 * epsilon2)\n",
    "#BW = GRF >= T\n",
    "#BW = GRF\n",
    "BW = np.zeros((number_of_voxels, number_of_voxels, number_of_voxels))\n",
    "BW[GRF <= T1] = 15\n",
    "BW[GRF >= T2] = 30\n",
    "\n",
    "# Plot a slice of the binary structure.\n",
    "#imgplot = plt.imshow(BW[:, :, 0])\n",
    "#plt.show()"
   ]
  },
  {
   "cell_type": "code",
   "execution_count": 3,
   "metadata": {
    "scrolled": false
   },
   "outputs": [],
   "source": [
    "C = np.fft.fftn(BW)\n",
    "C = np.fft.fftshift(C)\n",
    "#ipv.quickvolshow(np.log(np.abs(C)))"
   ]
  },
  {
   "cell_type": "code",
   "execution_count": 4,
   "metadata": {},
   "outputs": [
    {
     "name": "stderr",
     "output_type": "stream",
     "text": [
      "C:\\ProgramData\\Anaconda3\\lib\\site-packages\\ipyvolume\\serialize.py:92: RuntimeWarning: invalid value encountered in true_divide\n",
      "  gradient = gradient / np.sqrt(gradient[0] ** 2 + gradient[1] ** 2 + gradient[2] ** 2)\n"
     ]
    },
    {
     "data": {
      "application/vnd.jupyter.widget-view+json": {
       "model_id": "6dae27b7ae014ca9a9e44bc0ffdf6efa",
       "version_major": 2,
       "version_minor": 0
      },
      "text/plain": [
       "HBox(children=(VBox(children=(VBox(children=(HBox(children=(Label(value='levels:'), FloatSlider(value=0.7, max…"
      ]
     },
     "metadata": {},
     "output_type": "display_data"
    }
   ],
   "source": [
    "HBox([ipv.quickvolshow(BW,level=[0.7, 0.4, 0.9], opacity=[0.01, 0.05, 0.1]), ipv.quickvolshow(np.log(np.abs(C)), level=[0.7, 0.8, 0.7], opacity=[0.1, 0.1, 0.1])])"
   ]
  },
  {
   "cell_type": "code",
   "execution_count": 5,
   "metadata": {},
   "outputs": [
    {
     "data": {
      "text/plain": [
       "<function matplotlib.pyplot.show(*args, **kw)>"
      ]
     },
     "execution_count": 5,
     "metadata": {},
     "output_type": "execute_result"
    },
    {
     "data": {
      "image/png": "[encoded data removed]",
      "text/plain": [
       "<Figure size 432x288 with 1 Axes>"
      ]
     },
     "metadata": {
      "needs_background": "light"
     },
     "output_type": "display_data"
    }
   ],
   "source": [
    "plt.imshow(np.abs(BW[93,:,:]))\n",
    "plt.show"
   ]
  },
  {
   "cell_type": "code",
   "execution_count": 8,
   "metadata": {},
   "outputs": [],
   "source": [
    "#spatial step in real space, assume the unit is nanometer\n",
    "spatial_step = 0.5\n",
    "#wavevector along X\n",
    "qx = 2*np.pi*np.fft.fftfreq(len(BW), d = spatial_step)\n",
    "qx = np.fft.fftshift(qx)\n",
    "\n",
    "#new q matrix in 3D reciprocal space\n",
    "QX, QY, QZ = np.meshgrid(qx, qx, qx, sparse=True)\n",
    "\n",
    "#covert cartesian to spherical coordination\n",
    "q = np.sqrt(QX**2+ QY**2 +QZ**2)\n",
    "\n",
    "#bin q into 1D via histogram\n",
    "hist, bin_edges = np.histogram(q, bins= 80) #range = (min, max)\n",
    "\n",
    "#calculate the mean value at this binned section\n",
    "qAxis = (bin_edges[1:] + bin_edges[:-1]) / 2.0"
   ]
  },
  {
   "cell_type": "code",
   "execution_count": 9,
   "metadata": {
    "scrolled": true
   },
   "outputs": [
    {
     "data": {
      "image/png": "[encoded data removed]",
      "text/plain": [
       "<Figure size 432x288 with 1 Axes>"
      ]
     },
     "metadata": {
      "needs_background": "light"
     },
     "output_type": "display_data"
    }
   ],
   "source": [
    "#get the \"scattering\" profile of the GRF with porosity threthold by taking the weighted histogram of FFT\n",
    "Int, bin_number = np.histogram(q, bins = 80, weights=np.abs(C)) #range = (min, max)\n",
    "\n",
    "#normalize Intensity to binning number (hist) of q to get 1D\n",
    "I = Int/hist\n",
    "\n",
    "plt.loglog(qAxis, I, 'o-')\n",
    "plt.show()\n"
   ]
  },
  {
   "cell_type": "code",
   "execution_count": null,
   "metadata": {},
   "outputs": [],
   "source": []
  }
 ],
 "metadata": {
  "kernelspec": {
   "display_name": "Python 3",
   "language": "python",
   "name": "python3"
  },
  "language_info": {
   "codemirror_mode": {
    "name": "ipython",
    "version": 3
   },
   "file_extension": ".py",
   "mimetype": "text/x-python",
   "name": "python",
   "nbconvert_exporter": "python",
   "pygments_lexer": "ipython3",
   "version": "3.8.3"
  }
 },
 "nbformat": 4,
 "nbformat_minor": 4
}
